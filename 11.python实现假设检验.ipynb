{
 "cells": [
  {
   "cell_type": "markdown",
   "metadata": {},
   "source": [
    "# python实现假设检验"
   ]
  },
  {
   "cell_type": "code",
   "execution_count": null,
   "metadata": {},
   "outputs": [],
   "source": [
    "import pandas as pd \n",
    "import numpy as np \n",
    "from scipy import stats\n",
    "import matplotlib.pyplot as plt\n",
    "import seaborn as sns\n",
    "df:pd.DataFrame=pd.read_csv('test.csv')\n",
    "df.head()\n"
   ]
  },
  {
   "cell_type": "code",
   "execution_count": null,
   "metadata": {},
   "outputs": [],
   "source": [
    "df.shape # 样本数>30属于大样本"
   ]
  },
  {
   "cell_type": "code",
   "execution_count": null,
   "metadata": {},
   "outputs": [],
   "source": [
    "fig,ax=plt.subplots(1,2,figsize=(8,6))\n",
    "sns.distplot(\n",
    "    df['Temperature'],ax=ax[0]\n",
    ")\n",
    "sns.distplot(\n",
    "    df['HeartRate'],ax=ax[1]\n",
    ")"
   ]
  },
  {
   "cell_type": "markdown",
   "metadata": {},
   "source": [
    "从可视化的直观上看，温度和心率的样本是服从正态分布"
   ]
  },
  {
   "cell_type": "markdown",
   "metadata": {},
   "source": [
    "# 人体均值是否为98.6华氏度？\n",
    "\n",
    "$$\n",
    "H_0: \\mu=98.6;\\ H_1:\\mu \\ne 98.6\n",
    "$$\n",
    "\n",
    "检验统计量\n",
    "$$\n",
    "z=\\frac{\\bar{x}-\\mu_0}{\\sigma/\\sqrt{n}}\n",
    "$$"
   ]
  },
  {
   "cell_type": "code",
   "execution_count": null,
   "metadata": {},
   "outputs": [],
   "source": [
    "# 手动计算\n",
    "# 95%置信水平, 显著性水平alpha=0.05\n",
    "alpha=0.05\n",
    "mu=98.6\n",
    "x_bar=np.mean(df['Temperature'])\n",
    "sigma=np.std(df['Temperature'],ddof=1)\n",
    "n=df.shape[0]\n",
    "z=(x_bar-mu)/(sigma/np.sqrt(n))\n",
    "\n",
    "z_score=stats.norm.ppf(1-alpha)\n",
    "\n",
    "print('z: ',z)\n",
    "print('z score: ',z_score)\n",
    "\n",
    "if z<z_score:\n",
    "    print('Null Hypothesis Rejected')\n",
    "else:\n",
    "    print('Null Hypothesis cannot be Rejected')\n",
    "\n"
   ]
  },
  {
   "cell_type": "code",
   "execution_count": null,
   "metadata": {},
   "outputs": [],
   "source": [
    "# scipy.stats计算\n",
    "t,p_value=stats.ttest_1samp(\n",
    "    df['Temperature'],popmean=mu\n",
    ")\n",
    "print('t: ',t,' p: ',p_value)\n"
   ]
  },
  {
   "cell_type": "markdown",
   "metadata": {},
   "source": [
    " # 人体的温度是否服从正态分布?\n",
    "```py\n",
    "# Shapiro-Wilk检验\n",
    "stats.shapiro()\n",
    "# K-S检验\n",
    "stats.kstest()"
   ]
  },
  {
   "cell_type": "code",
   "execution_count": null,
   "metadata": {},
   "outputs": [],
   "source": [
    "alpha=0.05\n",
    "stat,p=stats.shapiro(df['Temperature'])\n",
    "if p>alpha:\n",
    "    print('Sample looks Gaussian(Fail to reject H0)')\n",
    "else:\n",
    "    print('Sample looks not Gaussian(reject H0)')\n",
    "# 结果符合正态分布"
   ]
  },
  {
   "cell_type": "code",
   "execution_count": null,
   "metadata": {},
   "outputs": [],
   "source": [
    "stat,p=stats.kstest(df['Temperature'],'norm',args=(\n",
    "    df['Temperature'].mean(),df['Temperature'].std()\n",
    "))\n",
    "print('p: ',p)\n",
    "if p>alpha:\n",
    "    print('Sample looks Gaussiian(Fail to reject H0)')\n",
    "else:\n",
    "    print('Sample looks not Gaussian(reject H0)')\n"
   ]
  },
  {
   "cell_type": "markdown",
   "metadata": {},
   "source": [
    "# 人体体温中存在的异常数据是哪些？\n",
    "\n",
    "sklearn中的`neighbors.LocalOutlierFactor`可以检测异常值\n",
    "\n",
    "具体用法请看[这里](https://scikit-learn.org/stable/modules/generated/sklearn.neighbors.LocalOutlierFactor.html#sklearn.neighbors.LocalOutlierFactor)"
   ]
  },
  {
   "cell_type": "code",
   "execution_count": null,
   "metadata": {},
   "outputs": [],
   "source": [
    "from sklearn.neighbors import LocalOutlierFactor\n",
    "\n",
    "clf=LocalOutlierFactor(n_neighbors=20)  \n",
    "predict=clf.fit_predict(df[['Temperature']])\n",
    "# 正常:1 异常:0\n",
    "df.loc[predict<0]\n",
    "\n"
   ]
  },
  {
   "cell_type": "markdown",
   "metadata": {},
   "source": [
    "# 男女体温是否存在明显差异？\n",
    "H0: 有差异\n",
    "H1: 没有差异"
   ]
  },
  {
   "cell_type": "code",
   "execution_count": null,
   "metadata": {},
   "outputs": [],
   "source": [
    "boy=df.loc[\n",
    "    df['Gender']==1,'Temperature'\n",
    "]\n",
    "girl=df.loc[\n",
    "    df['Gender']==2,'Temperature'\n",
    "]\n",
    "stat,p=stats.f_oneway(boy,girl)\n",
    "\n",
    "print('p: ',p)\n",
    "if p>alpha:\n",
    "    print('Cannot reject H0: The Gender makes difference')\n",
    "else:\n",
    "    print('Reject H0: There is difference')\n"
   ]
  },
  {
   "cell_type": "code",
   "execution_count": 1,
   "metadata": {},
   "outputs": [],
   "source": []
  },
  {
   "cell_type": "markdown",
   "metadata": {},
   "source": [
    "# 体温与心率间的相关性(强？弱？中等?)"
   ]
  },
  {
   "cell_type": "code",
   "execution_count": null,
   "metadata": {},
   "outputs": [],
   "source": [
    "sns.scatterplot(\n",
    "    x='HeartRate',y='Temperature',data=df\n",
    ")"
   ]
  },
  {
   "cell_type": "code",
   "execution_count": null,
   "metadata": {},
   "outputs": [],
   "source": [
    "df[['Temperature','HeartRate']].corr()\n"
   ]
  },
  {
   "cell_type": "markdown",
   "metadata": {},
   "source": [
    "Pearson系数显示两者相关度不是很高，我们做一个回归看看"
   ]
  },
  {
   "cell_type": "code",
   "execution_count": null,
   "metadata": {},
   "outputs": [],
   "source": [
    "from sklearn.linear_model import LinearRegression\n",
    "from sklearn.model_selection import train_test_split\n",
    "\n",
    "\n",
    "X=df[['HeartRate']]\n",
    "y=df['Temperature']\n",
    "X_train,X_test,y_train,y_test=train_test_split(X,y)\n",
    "\n",
    "model=LinearRegression().fit(X_train,y_train)\n",
    "model.score(X_train,y_train)\n"
   ]
  },
  {
   "cell_type": "markdown",
   "metadata": {},
   "source": [
    "拟合效果不佳，说明两者相关程度应该会更低"
   ]
  }
 ],
 "metadata": {
  "file_extension": ".py",
  "kernelspec": {
   "display_name": "Python 3",
   "language": "python",
   "name": "python3"
  },
  "language_info": {
   "codemirror_mode": {
    "name": "ipython",
    "version": 3
   },
   "file_extension": ".py",
   "mimetype": "text/x-python",
   "name": "python",
   "nbconvert_exporter": "python",
   "pygments_lexer": "ipython3",
   "version": "3.7.4"
  },
  "mimetype": "text/x-python",
  "name": "python",
  "npconvert_exporter": "python",
  "pygments_lexer": "ipython3",
  "version": 3
 },
 "nbformat": 4,
 "nbformat_minor": 4
}
