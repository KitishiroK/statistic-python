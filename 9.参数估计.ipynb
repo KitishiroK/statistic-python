{
 "cells": [
  {
   "cell_type": "markdown",
   "metadata": {},
   "source": [
    "# 参数估计\n",
    "\n",
    "**参数估计**就是用样本统计量去估计总体参数。\n",
    "\n",
    "**点估计**就是用样本统计量$\\hat{\\theta}$的某个取值直接作为总体参数$\\theta$的估计值。\n",
    "\n",
    "**区间估计**是在点估计的基础上，给出总体参数估计的一个区间范围，该区间通常由样本统计量加减估计误差得到。\n",
    "\n",
    "## 估计量评价标准\n",
    "\n",
    "- 无偏性\n",
    "\n",
    "\n",
    "- 有效性\n",
    "\n",
    "指同一总体参数的两个无偏估计量，有更小标准差估计量更有效。\n",
    "\n",
    "- 一致性\n",
    "\n",
    "随着样本量增大，估计量的值越来越接近被估计总体参数。"
   ]
  },
  {
   "cell_type": "code",
   "execution_count": 2,
   "metadata": {},
   "outputs": [],
   "source": [
    "import numpy as np \n",
    "import pandas as pd \n",
    "import matplotlib.pyplot as plt \n",
    "from scipy import stats\n"
   ]
  },
  {
   "cell_type": "markdown",
   "metadata": {},
   "source": [
    "## 总体均值区间估计\n",
    "\n",
    "\n",
    "条件：正态总体，大样本，方差已知\n",
    "\n",
    "总体均值$\\mu$的方差估计为\n",
    "$$\n",
    "\\bar{x} \\pm z_{\\alpha/2}\\frac{\\sigma}{\\sqrt{n}}\n",
    "$$\n",
    "\n",
    "其中z为样本均值经过标准化后随机变量服从的**标准正态**分布\n",
    "$$\n",
    "z=\\frac{\\bar{x}-\\mu}{\\sigma/\\sqrt{n}}\n",
    "$$\n"
   ]
  },
  {
   "cell_type": "code",
   "execution_count": 3,
   "metadata": {},
   "outputs": [
    {
     "data": {
      "text/plain": [
       "(26.892435686140416, 52.10756431385958)"
      ]
     },
     "execution_count": 3,
     "metadata": {},
     "output_type": "execute_result"
    }
   ],
   "source": [
    "# 大样本\n",
    "# alpha:置信水平 0.9\n",
    "# loc: 均值\n",
    "# scale: 方差\n",
    "data=pd.read_excel(\n",
    "    'data/5.1.xlsx'\n",
    ")\n",
    "data=data.values.flatten()\n",
    "\n",
    "alpha=0.1\n",
    "mu=np.mean(data)\n",
    "sigma=np.std(data)\n",
    "\n",
    "stats.norm.interval(1-alpha,loc=mu,scale=sigma)\n",
    "\n"
   ]
  },
  {
   "cell_type": "markdown",
   "metadata": {},
   "source": [
    "条件：小样本，正态总体，方差未知\n",
    "\n",
    "总体$\\mu$的估计为\n",
    "$$\n",
    "\\bar{x} \\pm t_{\\alpha/2}\\frac{s}{\\sqrt{n}}\n",
    "$$\n",
    "其中t为样本均值经过标准化后随机变量服从自由度为(n-1)的\n",
    "t分布:\n",
    "$$\n",
    "t=\\frac{\\bar{x}-\\mu}{s/\\sqrt{n}}\\sim t(n-1)\n",
    "$$"
   ]
  },
  {
   "cell_type": "code",
   "execution_count": 0,
   "metadata": {},
   "outputs": [],
   "source": [
    "# 小样本\n",
    "data52=pd.read_excel(\n",
    "    'data/5.2.xlsx'\n",
    ")\n",
    "data52=data52.values.flatten()\n",
    "\n",
    "alpha=0.05\n",
    "mu=np.mean(data52)\n",
    "sigma=np.std(data52)\n",
    "# alpha:置信水平\n",
    "# df: 自由度\n",
    "# loc: 均值\n",
    "# scale: 方差\n",
    "\n",
    "stats.t.interval(alpha,len(data)-1,loc=mu,scale=sigma)\n"
   ]
  },
  {
   "cell_type": "code",
   "execution_count": 0,
   "metadata": {},
   "outputs": [],
   "source": [
    "# pandas读取sav文件\n",
    "# 需要安装pip install pyreadstat\n",
    "data=pd.read_spss(\n",
    "    'data/5.3.sav'\n",
    ")\n",
    "data=data.values.flatten()\n",
    "\n",
    "alpha=0.95\n",
    "mu=np.mean(data)\n",
    "sigma=np.std(data)\n",
    "\n",
    "stats.t.interval(1-alpha,df=len(data)-1,loc=mu,scale=sigma)\n",
    "\n"
   ]
  },
  {
   "cell_type": "markdown",
   "metadata": {},
   "source": [
    "### 样本比例服从分布\n",
    "\n",
    "总体比例置信区间为\n",
    "$$\n",
    "p \\pm z_{\\alpha/2}\\sqrt{\\frac{p(1-p)}{n}}\n",
    "$$\n",
    "\n",
    "样本比例经标准化后的随机变量服从标准正态，即\n",
    "$$\n",
    "z=\\frac{p-\\pi}{\\sqrt{\\pi(1-\\pi)}/\\sqrt{n}} \\sim N(0,1)\n",
    "$$"
   ]
  },
  {
   "cell_type": "code",
   "execution_count": 0,
   "metadata": {},
   "outputs": [],
   "source": [
    "# 总体比例区间估计\n",
    "\n",
    "p=.65\n",
    "alpha=0.05\n",
    "lower=p+stats.norm.ppf(alpha/2)*np.sqrt(.65*(1-.65)/100)\n",
    "upper=p+stats.norm.ppf(1-alpha/2)*np.sqrt(.65*(1-.65)/100)\n",
    "lower,upper\n"
   ]
  },
  {
   "cell_type": "markdown",
   "metadata": {},
   "source": [
    "### 总体方差区间估计\n",
    "\n",
    "$$\n",
    "\\frac{(n-1)s^2}{\\chi^2_{\\alpha/2}}\\le \\sigma^2 \\le \n",
    "\\frac{(n-1)s^2}{\\chi^2_{1-\\alpha}}\n",
    "$$"
   ]
  },
  {
   "cell_type": "markdown",
   "metadata": {},
   "source": [
    " 总体方差估计\n",
    " mu=np.mean(data52)"
   ]
  },
  {
   "cell_type": "code",
   "execution_count": 0,
   "metadata": {},
   "outputs": [],
   "source": [
    "alpha=0.05\n",
    "sigma=np.std(data52,ddof=1)\n",
    "n=len(data52)\n",
    "\n",
    "lower=(n-1)*sigma**2/stats.chi2.ppf(1-alpha/2,df=n-1,loc=0,scale=1)\n",
    "upper=(n-1)*sigma**2/stats.chi2.ppf(alpha/2,df=n-1,loc=0,scale=1)\n",
    "lower,upper\n"
   ]
  },
  {
   "cell_type": "code",
   "execution_count": 1,
   "metadata": {},
   "outputs": [],
   "source": [
    "\n"
   ]
  },
  {
   "cell_type": "markdown",
   "metadata": {},
   "source": [
    " # 两个参数区间估计\n",
    "## 两总体均值之差\n",
    "\n",
    "大样本\n",
    "\n",
    "\n",
    "估计区间\n",
    "\n",
    "$$\n",
    "(x_1-x_2)\\pm z_{\\alpha/2}\\sqrt{\\frac{\\sigma^2_1}{n_1}+\\frac{\\sigma^2_2}{n_2}}\n",
    "$$\n"
   ]
  },
  {
   "cell_type": "code",
   "execution_count": 0,
   "metadata": {},
   "outputs": [],
   "source": [
    "# 两个总体均值之差\n",
    "# 大样本\n",
    "n1=46\n",
    "mu1=126\n",
    "sigma1=5.8\n",
    "\n",
    "n2=33\n",
    "mu2=118\n",
    "sigma2=7.2\n",
    "\n",
    "# 取95%的置信区间\n",
    "alpha=.05\n",
    "\n",
    "lower=(mu1-mu2)+stats.norm.ppf(alpha/2)*np.sqrt(sigma1**2/46+sigma2**2/33)\n",
    "upper=(mu1-mu2)+stats.norm.ppf(1-alpha/2)*np.sqrt(sigma1**2/46+sigma2**2/33)\n",
    "lower,upper\n",
    "\n"
   ]
  },
  {
   "cell_type": "markdown",
   "metadata": {},
   "source": [
    "小样本\n",
    "\n",
    "1. $\\sigma_1=\\sigma_2$\n",
    "$$\n",
    "(\\bar{x_1}-\\bar{x_2})\\pm t_{\\alpha/2}(n_1+n_2-2)\n",
    "\\sqrt{s^2_p(\\frac{1}{n_1}+\\frac{1}{n_2})}\n",
    "$$\n",
    "\n",
    "2. $\\sigma_1 \\ne \\sigma_2$\n",
    "\n",
    "$$\n",
    "(\\bar{x_1}-\\bar{x_2})\\pm t_{\\alpha/2}(v)\n",
    "\\sqrt{\\frac{s_1^2}{n_1}+\\frac{s_2^2}{n_2}} \\\\\n",
    "\n",
    "$$\n",
    "v: 两样本均值之差经标准化的服从自由度为v的t分布"
   ]
  },
  {
   "cell_type": "code",
   "execution_count": 0,
   "metadata": {},
   "outputs": [],
   "source": [
    "# 两个总体均值之差\n",
    "# 小样本\n",
    "\n",
    "data57=pd.read_spss(\n",
    "    'data/5.7.sav'\n",
    ")\n",
    "d1=data57.iloc[:12,-1].values\n",
    "d2=data57.iloc[12:-1,-1].values\n",
    "\n"
   ]
  },
  {
   "cell_type": "code",
   "execution_count": 0,
   "metadata": {},
   "outputs": [],
   "source": [
    "# 两总体方差相等\n",
    "mu1=np.mean(d1)\n",
    "sigma1=np.std(d1,ddof=1)\n",
    "n1=len(d1)\n",
    "\n",
    "mu2=np.mean(d2)\n",
    "sigma2=np.std(d2,ddof=1)\n",
    "n2=len(d2)\n",
    "\n",
    "alpha=0.05\n",
    "# 两总体方差合并估计量\n",
    "sp2=((n1-1)*sigma1**2+(n2-1)*sigma2**2)/(n1+n2-2)\n",
    "\n",
    "# mu1-mu2的置信区间\n",
    "lower=(mu1-mu2)+stats.t.ppf(alpha/2,df=(n1+n2-2))*np.sqrt(sp2*(1/n1+1/n2))\n",
    "upper=(mu1-mu2)+stats.t.ppf(1-alpha/2,df=(n1+n2-2))*np.sqrt(sp2*(1/n1+1/n2))\n",
    "\n",
    "lower,upper\n",
    "\n"
   ]
  },
  {
   "cell_type": "markdown",
   "metadata": {},
   "source": [
    "配对样本\n",
    "$$\n",
    "\\bar{d} \\pm t_{\\alpha/2}(n-1)\\frac{s_d}{\\sqrt{n}}\n",
    "$$"
   ]
  },
  {
   "cell_type": "code",
   "execution_count": 0,
   "metadata": {},
   "outputs": [],
   "source": [
    "# 配对样本估计\n",
    "data58=pd.read_spss(\n",
    "    'data/5.8.sav'\n",
    ")\n",
    "\n"
   ]
  },
  {
   "cell_type": "code",
   "execution_count": 0,
   "metadata": {},
   "outputs": [],
   "source": [
    "d1=data58.iloc[:,1].values\n",
    "d2=data58.iloc[:,2].values\n",
    "\n",
    "alpha=0.05\n",
    "\n",
    "d=d1-d2\n",
    "d_bar=np.sum(d)/len(data58)\n",
    "\n",
    "s_d=np.sqrt(np.sum((d-d_bar)**2)/(len(d)-1))\n",
    "lower=d_bar+stats.t.ppf(alpha/2,df=len(d)-1)*s_d/np.sqrt(len(d))\n",
    "upper=d_bar+stats.t.ppf(1-alpha/2,df=len(d)-1)*s_d/np.sqrt(len(d))\n",
    "lower,upper\n"
   ]
  },
  {
   "cell_type": "markdown",
   "metadata": {},
   "source": [
    "### 两总体方差之差\n",
    "$$\n",
    "(p_1-p_2)\\pm z_{\\alpha/2}\\sqrt{\\frac{p_1(1-p_1)}{n_1}\n",
    "+\\frac{p_2(1-p_2)}{n_2}}\n",
    "$$"
   ]
  },
  {
   "cell_type": "code",
   "execution_count": 0,
   "metadata": {},
   "outputs": [],
   "source": [
    "# 两总体比例之差\n",
    "p1=0.32\n",
    "n1=400\n",
    "\n",
    "p2=0.45\n",
    "n2=500\n",
    "\n",
    "alpha=0.05 # 95%置信水平\n",
    "\n",
    "lower=np.abs(p1-p2)+stats.norm.ppf(alpha/2)*np.sqrt(p1*(1-p1)/500+p2*(1-p2)/400)\n",
    "upper=np.abs(p1-p2)+stats.norm.ppf(1-alpha/2)*np.sqrt(p1*(1-p1)/500+p2*(1-p2)/400)\n",
    "\n",
    "lower,upper\n"
   ]
  },
  {
   "cell_type": "markdown",
   "metadata": {},
   "source": [
    "### 总体方差比\n",
    "$$\n",
    "\\frac{s^2_1/s^2_2}{F_{\\alpha/2}} \\le \\frac{\\sigma^2_1}\n",
    "{\\sigma^2_2} \\le \\frac{s^2_1/s^2_2}{F_{1-\\alpha/2}}\n",
    "$$"
   ]
  },
  {
   "cell_type": "code",
   "execution_count": 0,
   "metadata": {},
   "outputs": [],
   "source": [
    "# 两总体方差比\n",
    "\n",
    "n1=25\n",
    "x1_bar=520\n",
    "s1=260\n",
    "\n",
    "n2=25\n",
    "x2_bar=480\n",
    "s2=280\n",
    "\n",
    "alpha=0.05\n",
    "\n",
    "\n",
    "lower=(s1/s2)/stats.f.ppf(1-alpha/2,dfn=n1-1,dfd=n2-1)\n",
    "upper=(s1/s2)/stats.f.ppf(alpha/2,dfn=n1-1,dfd=n2-1)\n",
    "lower,upper\n"
   ]
  },
  {
   "cell_type": "markdown",
   "metadata": {},
   "source": [
    " # 样本量的确定\n",
    "## 均值\n",
    "$$\n",
    "n=\\frac{(z_{\\alpha/2})^2 \\sigma^2}{E^2}\n",
    "$$\n",
    "E为所代表希望达到的估计误差"
   ]
  },
  {
   "cell_type": "code",
   "execution_count": 0,
   "metadata": {},
   "outputs": [],
   "source": [
    "# 总体均值的样本量确定\n",
    "# 一个总体均值\n",
    "sigma=2000 \n",
    "error=400 # 误差\n",
    "alpha=0.05\n",
    "\n",
    "n=stats.norm.ppf(alpha/2)**2*2000**2/400**2 # 样本量的确定\n",
    "n # 97\n"
   ]
  },
  {
   "cell_type": "code",
   "execution_count": 0,
   "metadata": {},
   "outputs": [],
   "source": [
    "# 两个总体均值\n",
    "\n",
    "# 方差\n",
    "var1=90 \n",
    "var2=120\n",
    "\n",
    "error=5\n",
    "alpha=0.05\n",
    "\n",
    "n=stats.norm.ppf(alpha/2)**2*(var1+var2)/error**2\n",
    "n # 33\n"
   ]
  },
  {
   "cell_type": "markdown",
   "metadata": {},
   "source": [
    "## 样本比例的样本量\n",
    "$$\n",
    "n=\\frac{(z_{\\alpha/2})^2 \\pi(1-\\pi)}{E^2}\n",
    "$$"
   ]
  },
  {
   "cell_type": "code",
   "execution_count": 0,
   "metadata": {},
   "outputs": [],
   "source": [
    "# 总体比例的样本量确定\n",
    "# 一个总体比例\n",
    "p=0.9\n",
    "error=0.05\n",
    "alpha=0.05\n",
    "\n",
    "n=stats.norm.ppf(alpha/2)**2*p*(1-p)/error**2\n",
    "n\n"
   ]
  },
  {
   "cell_type": "code",
   "execution_count": 0,
   "metadata": {},
   "outputs": [],
   "source": [
    "# 两个总体比例\n",
    "p=0.5\n",
    "error=0.1\n",
    "\n",
    "n=stats.norm.ppf(alpha/2)**2*(p*(1-p)+p*(1-p))/error**2\n",
    "n # n1=n2"
   ]
  }
 ],
 "metadata": {
  "file_extension": ".py",
  "kernelspec": {
   "display_name": "Python 3.7.5 64-bit",
   "name": "python37564bit3a8caaf5da8e4c7084fa05f464054bbf"
  },
  "language_info": {
   "codemirror_mode": {
    "name": "ipython",
    "version": 3
   },
   "name": "python",
   "version": "3.7.5-final"
  },
  "mimetype": "text/x-python",
  "name": "python",
  "npconvert_exporter": "python",
  "pygments_lexer": "ipython3",
  "version": 3
 },
 "nbformat": 4,
 "nbformat_minor": 2
}
