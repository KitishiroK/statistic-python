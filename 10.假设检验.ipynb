{
 "cells": [
  {
   "cell_type": "markdown",
   "metadata": {},
   "source": [
    "# 假设检验\n",
    "\n",
    "# 假设检验的基本原理\n",
    "\n",
    "## 怎样提出假设\n",
    "\n",
    "**假设检验**(hypothesis test)就是在对总体参数提出假设的基础上，利用样本信息来判断是否成立的统计方法。\n",
    "\n",
    "**原假设**(零假设, null hypothesis)时研究者想收集证据以推理的假设，用$H_0$表示。\n",
    "\n",
    "**备选假设**(alternative hypothesis)时研究者想收集证据以支持的假设，用$H_1$。\n",
    "\n",
    "如果备选假设没有特定方向，并含有$\\ne$，则称其为**双侧/双尾检验**(two-tailed test)。\n",
    "\n",
    "如果备选假设具有特定的方向性，含有> 或 < ，则称其为**单向检验**。\n",
    "\n",
    "以总体均值是否等于10为例\n",
    "$$\n",
    "H_0:\\mu=10; \\ H_1:\\mu\\ne 10\n",
    "$$\n",
    "\n",
    "原假设和备选假设是一个完备事件组，且相互对立。\n",
    "\n",
    "## 怎样作出决策\n",
    "\n",
    "### 两类错误\n",
    "\n",
    "- 第I类错误($\\alpha$错误)\n",
    "\n",
    "原假设**正确**却**拒绝**了原假设\n",
    "\n",
    "- 第II类错误($\\beta$错误)\n",
    "\n",
    "原假设**错误**却**没有拒绝**原假设\n",
    "\n",
    "### 显著性水平(level of significance)\n",
    "\n",
    "犯**第I类错误**的概率为**显著性水平**，记为$\\alpha$。\n",
    "一般取0.1, 0.05, 0.01\n",
    "\n",
    "### 依据什么做出决策\n",
    "\n",
    "#### 统计量决策\n",
    "\n",
    "对于总体均值和总体比例的检验，在原假设$H_0$的条件下，根据**点估计量**的抽样分布可以得到**标准化统计量**\n",
    "\n",
    "$$\n",
    "标准化检验统计量=\\frac{点估计量-假设值}{点估计量标准差}\n",
    "$$\n",
    "---\n",
    "建立决策准则\n",
    "\n",
    "根据事先给定的$\\alpha$, 可以在统计量分布找到相应的**临界值**(critical value)，由$\\alpha$相应的临界值围城一个区域为**拒绝域**(rejection region)。\n",
    "\n",
    "如果统计量的值落在了拒绝域内就拒绝原假设，否则就不拒绝原假设。拒绝域的大小与给定$\\alpha$有关。当样本量固定时，随$\\alpha$减小二减小。\n",
    "\n",
    "决策准则：\n",
    "\n",
    "- 双侧检验：|统计量|>临界值，拒绝原假设\n",
    "- 左侧检验：统计量<-临界值，拒绝原假设\n",
    "- 右侧检验：统计量>临界值，拒绝原假设\n",
    "\n",
    "#### p值决策\n",
    "\n",
    "犯第I类错误的真实概率是**p值**。\n",
    "\n",
    "如果p<$\\alpha$,拒绝$H_0$; 如果p>$\\alpha$, 不拒绝$H_0$\n",
    "\n",
    "p值越小，拒绝原假设的理由越充分。\n",
    "\n",
    "p<0.1: 有“一些证据”不利于原假设\n",
    "\n",
    "p<0.05: 有“适度证据”不利于原假设\n",
    "\n",
    "p<0.01: 有“很强证据”不利于原假设\n"
   ]
  },
  {
   "cell_type": "code",
   "execution_count": 1,
   "metadata": {},
   "outputs": [],
   "source": [
    "import numpy as np \n",
    "import pandas as pd \n",
    "from scipy import stats\n",
    "from statsmodels.stats import weightstats\n"
   ]
  },
  {
   "cell_type": "markdown",
   "metadata": {},
   "source": [
    "# 一个总体参数的检验\n",
    "\n",
    "## 总体均值\n",
    "\n",
    "大样本(n$\\ge$30), 总体方差已知\n",
    "\n",
    "$$\n",
    "z=\\frac{\\bar{x}-\\mu_0}{\\sigma/\\sqrt{n}}\n",
    "$$\n",
    "\n",
    "\n",
    "大样本(n$\\ge$30), 总体方差未知\n",
    "\n",
    "样本方差s代替$\\sigma$\n",
    "\n",
    "$$\n",
    "z=\\frac{\\bar{x}-\\mu_0}{s/\\sqrt{n}}\n",
    "$$\n",
    "\n",
    "统计量计算\n",
    "```py\n",
    "\n",
    "z=(x_bar-mu)/(5/np.sqrt(n))\n",
    "```\n",
    "\n",
    "p值计算\n",
    "```py\n",
    "1-stats.norm.cdf(z) # 单侧检验\n",
    "(1-stats.norm.cdf(z))*2 # 双侧检验\n",
    "```"
   ]
  },
  {
   "cell_type": "code",
   "execution_count": 2,
   "metadata": {},
   "outputs": [
    {
     "name": "stdout",
     "output_type": "stream",
     "text": [
      "z:  1.0119288512538958\n",
      "z critical value:  1.6448536269514722\n",
      "z<crictial value, null hypothesis cannot be rejected\n",
      "p-value:  0.3115720733144016\n"
     ]
    }
   ],
   "source": [
    "# H_0:mu=255; H_1:mu!=255\n",
    "# x_bar=255.8; sigma=5; n=40\n",
    "alpha=0.05\n",
    "mu=255\n",
    "x_bar=255.8\n",
    "sigma=5\n",
    "n=40\n",
    "\n",
    "z=(x_bar-mu)/(5/np.sqrt(n))\n",
    "\n",
    "print('z: ',z)\n",
    "print('z critical value: ',stats.norm.ppf(1-alpha))\n",
    "print('z<crictial value, null hypothesis cannot be rejected')\n",
    "\n",
    "print('p-value: ',(1-stats.norm.cdf(z))*2)\n"
   ]
  },
  {
   "cell_type": "code",
   "execution_count": 1,
   "metadata": {},
   "outputs": [],
   "source": []
  },
  {
   "cell_type": "markdown",
   "metadata": {},
   "source": [
    "小样本，总体方差未知\n",
    "\n",
    "$$\n",
    "t=\\frac{\\bar{x}-\\mu_0}{s/\\sqrt{n}}\n",
    "$$"
   ]
  },
  {
   "cell_type": "code",
   "execution_count": 2,
   "metadata": {},
   "outputs": [
    {
     "data": {
      "text/plain": [
       "Ttest_1sampResult(statistic=array([-0.70532789]), pvalue=array([0.49845324]))"
      ]
     },
     "execution_count": 2,
     "metadata": {},
     "output_type": "execute_result"
    }
   ],
   "source": [
    "df_6_7:pd.DataFrame=pd.read_spss(\n",
    "    'data/6-7.sav'\n",
    ")\n",
    "# ttest_1samp直接计算t值和p值\n",
    "stats.ttest_1samp(df_6_7,popmean=12)\n"
   ]
  },
  {
   "cell_type": "code",
   "execution_count": null,
   "metadata": {},
   "outputs": [],
   "source": [
    "alpha=0.05\n",
    "x_bar=np.mean(df_6_7.values.flatten())\n",
    "mu=12\n",
    "s=np.std(df_6_7.values.flatten(),ddof=1)\n",
    "n=10\n",
    "t=(x_bar-mu)/(s/np.sqrt(n))\n",
    "p_value=stats.t.cdf(t,df=n-1)*2\n",
    "print(t)\n",
    "print('critical value: ',stats.t.ppf(1-alpha,df=n-1))\n",
    "print('p value: ',p_value)"
   ]
  },
  {
   "cell_type": "markdown",
   "metadata": {},
   "source": [
    "## 总体比例的检验\n",
    "\n",
    "检验统计量(大样本)\n",
    "$$\n",
    "z=\\frac{p-\\pi_0}{\\sqrt{\\frac{\\pi_0(1-\\pi_0)}{n}}}\n",
    "$$\n",
    "\n",
    "## 总体方差\n",
    "\n",
    "检验统计量\n",
    "\n",
    "$$\n",
    "\\chi^2=\\frac{(n-1)s^2}{\\sigma^2_0}\n",
    "$$"
   ]
  },
  {
   "cell_type": "markdown",
   "metadata": {},
   "source": [
    "# 两个总体参数检验\n",
    "\n",
    "### 总体均值之差\n",
    "\n",
    "大样本，方差已知\n",
    "$$\n",
    "z=\\frac{(\\bar{x_1}-\\bar{x_2})-(\\mu_1-\\mu_2)}{\\frac{\\sigma^2_1}{n_1}+\\frac{\\sigma_2^2}{n_2}}\n",
    "$$\n",
    "\n",
    "独立小样本\n",
    "\n",
    "### 总体比例\n",
    "\n",
    "方差相等\n",
    "\n",
    "$$\n",
    "s^2_p=\\frac{(n_1-1)s^2_2+(n_2-1)s_2^2}{n_1+n_2-2}\n",
    "$$\n",
    "\n",
    "$$\n",
    "t=\\frac{(\\bar{x_1}-\\bar{x_2})-(\\mu_1-\\mu_2)}{\\sqrt{\\frac{s_1^2}{n_1}+\\frac{s_2^2}{n_2}}}\n",
    "$$\n",
    "\n",
    "方差不相等\n",
    "$$\n",
    "t=\\frac{(\\bar{x_1}-\\bar{x_2})-(\\mu_1-\\mu_2)}{\\sqrt{\\frac{s^2_1}{n_1}+\\frac{s^2_2}{n_2}}}\n",
    "\n",
    "$$\n",
    "自由度v的确认\n",
    "$$\n",
    "v=\\frac{(\\frac{s^2_1}{n_1}+\\frac{s^2_2}{n_2})^2}{\\frac{(\\frac{s^2_1}{n_1})^2}{n_1-1}+\\frac{(\\frac{s^2_2}{n_2})^2}{n_2-1}}\n",
    "$$\n",
    "\n",
    "### 配对样本的检验\n",
    "\n",
    "$$\n",
    "t=\\frac{\\bar{d}-(\\mu_1-\\mu_2)}{s_d/\\sqrt{n}}\n",
    "$$\n",
    "\n",
    "\n",
    "### 总体比例之差\n",
    "\n",
    "$$\n",
    "z=\\frac{(p_1-p_2)-d_0}{\\sqrt{\\frac{p_1(1-p_1)}{n_1}+\\frac{p_2(1-p_2)}{n_2}}}\n",
    "$$\n",
    "\n",
    "### 总体方差之比\n",
    "\n",
    "$$\n",
    "F=\\frac{s^2_1}{s^2_2}\n",
    "$$\n"
   ]
  },
  {
   "cell_type": "code",
   "execution_count": 1,
   "metadata": {},
   "outputs": [],
   "source": []
  }
 ],
 "metadata": {
  "file_extension": ".py",
  "kernelspec": {
   "display_name": "Python 3",
   "language": "python",
   "name": "python3"
  },
  "language_info": {
   "codemirror_mode": {
    "name": "ipython",
    "version": 3
   },
   "file_extension": ".py",
   "mimetype": "text/x-python",
   "name": "python",
   "nbconvert_exporter": "python",
   "pygments_lexer": "ipython3",
   "version": "3.7.4"
  },
  "mimetype": "text/x-python",
  "name": "python",
  "npconvert_exporter": "python",
  "pygments_lexer": "ipython3",
  "version": 3
 },
 "nbformat": 4,
 "nbformat_minor": 4
}
