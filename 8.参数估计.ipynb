{
 "cells": [
  {
   "cell_type": "markdown",
   "metadata": {},
   "source": [
    "# 参数估计"
   ]
  },
  {
   "cell_type": "code",
   "execution_count": 2,
   "metadata": {},
   "outputs": [],
   "source": [
    "import numpy as np \n",
    "import pandas as pd \n",
    "import matplotlib.pyplot as plt \n",
    "from scipy import stats\n"
   ]
  },
  {
   "cell_type": "markdown",
   "metadata": {},
   "source": [
    "# 总体均值区间估计"
   ]
  },
  {
   "cell_type": "code",
   "execution_count": 7,
   "metadata": {},
   "outputs": [
    {
     "data": {
      "text/plain": [
       "(37.3987392810234, 41.6012607189766)"
      ]
     },
     "execution_count": 7,
     "metadata": {},
     "output_type": "execute_result"
    }
   ],
   "source": [
    "# 大样本\n",
    "# alpha:置信水平 0.9\n",
    "# loc: 均值\n",
    "# scale: 方差\n",
    "data=pd.read_excel(\n",
    "    'week5/data/5.1.xlsx'\n",
    ")\n",
    "data=data.values.flatten()\n",
    "\n",
    "alpha=0.1\n",
    "mu=np.mean(data)\n",
    "sigma=np.std(data)\n",
    "\n",
    "lower=mu+stats.norm.ppf(alpha/2)*sigma/np.sqrt(len(data))\n",
    "upper=mu+stats.norm.ppf(1-alpha/2)*sigma/np.sqrt(len(data))\n",
    "lower,upper"
   ]
  },
  {
   "cell_type": "code",
   "execution_count": 8,
   "metadata": {},
   "outputs": [
    {
     "data": {
      "text/plain": [
       "(102.10611629441006, 108.61388370558997)"
      ]
     },
     "execution_count": 8,
     "metadata": {},
     "output_type": "execute_result"
    }
   ],
   "source": [
    "# 小样本\n",
    "data52=pd.read_excel(\n",
    "    'week5/data/5.2.xlsx'\n",
    ")\n",
    "data52=data52.values.flatten()\n",
    "\n",
    "alpha=0.05\n",
    "mu=np.mean(data52)\n",
    "sigma=np.std(data52)\n",
    "# alpha:置信水平\n",
    "# df: 自由度\n",
    "# loc: 均值\n",
    "# scale: 方差\n",
    "\n",
    "lower=mu+stats.t.ppf(alpha/2,df=len(data52)-1)*sigma/np.sqrt(len(data))\n",
    "upper=mu+stats.t.ppf(1-alpha/2,df=len(data52)-1)*sigma/np.sqrt(len(data))\n",
    "lower,upper"
   ]
  },
  {
   "cell_type": "code",
   "execution_count": 6,
   "metadata": {},
   "outputs": [
    {
     "data": {
      "text/plain": [
       "(1477.2224088488201, 1502.7775911511799)"
      ]
     },
     "execution_count": 6,
     "metadata": {},
     "output_type": "execute_result"
    }
   ],
   "source": [
    "# pandas读取sav文件\n",
    "# 需要安装pip install pyreadstat\n",
    "data=pd.read_spss(\n",
    "    'week5/data/5.3.sav'\n",
    ")\n",
    "data=data.values.flatten()\n",
    "\n",
    "alpha=0.05\n",
    "mu=np.mean(data)\n",
    "sigma=np.std(data)\n",
    "\n",
    "lower=mu+stats.t.ppf(alpha/2,df=len(data)-1)*sigma/np.sqrt(len(data))\n",
    "upper=mu+stats.t.ppf(1-alpha/2,df=len(data)-1)*sigma/np.sqrt(len(data))\n",
    "lower,upper"
   ]
  },
  {
   "cell_type": "markdown",
   "metadata": {},
   "source": [
    "# 总体比例区间估计"
   ]
  },
  {
   "cell_type": "code",
   "execution_count": 5,
   "metadata": {},
   "outputs": [
    {
     "data": {
      "text/plain": [
       "(0.5565156760890944, 0.7434843239109057)"
      ]
     },
     "execution_count": 5,
     "metadata": {},
     "output_type": "execute_result"
    }
   ],
   "source": [
    "\n",
    "p=.65\n",
    "alpha=0.05\n",
    "lower=p+stats.norm.ppf(alpha/2)*np.sqrt(.65*(1-.65)/100)\n",
    "upper=p+stats.norm.ppf(1-alpha/2)*np.sqrt(.65*(1-.65)/100)\n",
    "lower,upper\n",
    "\n"
   ]
  },
  {
   "cell_type": "markdown",
   "metadata": {},
   "source": [
    "# 总体方差估计"
   ]
  },
  {
   "cell_type": "code",
   "execution_count": 6,
   "metadata": {},
   "outputs": [
    {
     "data": {
      "text/plain": [
       "(56.82897120865117, 180.3881060043311)"
      ]
     },
     "execution_count": 6,
     "metadata": {},
     "output_type": "execute_result"
    }
   ],
   "source": [
    "alpha=0.05\n",
    "mu=np.mean(data52)\n",
    "sigma=np.std(data52,ddof=1)\n",
    "n=len(data52)\n",
    "\n",
    "lower=(n-1)*sigma**2/stats.chi2.ppf(1-alpha/2,df=n-1,loc=0,scale=1)\n",
    "upper=(n-1)*sigma**2/stats.chi2.ppf(alpha/2,df=n-1,loc=0,scale=1)\n",
    "lower,upper\n"
   ]
  },
  {
   "cell_type": "markdown",
   "metadata": {},
   "source": [
    " # 两个参数区间估计"
   ]
  },
  {
   "cell_type": "code",
   "execution_count": 7,
   "metadata": {},
   "outputs": [
    {
     "data": {
      "text/plain": [
       "(5.026137507995736, 10.973862492004262)"
      ]
     },
     "execution_count": 7,
     "metadata": {},
     "output_type": "execute_result"
    }
   ],
   "source": [
    "# 两个总体均值之差\n",
    "# 大样本\n",
    "n1=46\n",
    "mu1=126\n",
    "sigma1=5.8\n",
    "\n",
    "n2=33\n",
    "mu2=118\n",
    "sigma2=7.2\n",
    "\n",
    "# 取95%的置信区间\n",
    "alpha=.05\n",
    "\n",
    "lower=(mu1-mu2)+stats.norm.ppf(alpha/2)*np.sqrt(sigma1**2/46+sigma2**2/33)\n",
    "upper=(mu1-mu2)+stats.norm.ppf(1-alpha/2)*np.sqrt(sigma1**2/46+sigma2**2/33)\n",
    "lower,upper\n"
   ]
  },
  {
   "cell_type": "code",
   "execution_count": 8,
   "metadata": {},
   "outputs": [],
   "source": [
    "# 两个总体均值之差\n",
    "# 小样本\n",
    "\n",
    "data57=pd.read_spss(\n",
    "    'week5/data/5.7.sav'\n",
    ")\n",
    "d1=data57.iloc[:12,-1].values\n",
    "d2=data57.iloc[12:-1,-1].values\n",
    "\n"
   ]
  },
  {
   "cell_type": "code",
   "execution_count": 9,
   "metadata": {},
   "outputs": [
    {
     "data": {
      "text/plain": [
       "(-0.21694443559173138, 7.198762617409922)"
      ]
     },
     "execution_count": 9,
     "metadata": {},
     "output_type": "execute_result"
    }
   ],
   "source": [
    "# 两总体方差相等\n",
    "mu1=np.mean(d1)\n",
    "sigma1=np.std(d1,ddof=1)\n",
    "n1=len(d1)\n",
    "\n",
    "mu2=np.mean(d2)\n",
    "sigma2=np.std(d2,ddof=1)\n",
    "n2=len(d2)\n",
    "\n",
    "alpha=0.05\n",
    "# 两总体方差合并估计量\n",
    "sp2=((n1-1)*sigma1**2+(n2-1)*sigma2**2)/(n1+n2-2)\n",
    "\n",
    "# mu1-mu2的置信区间\n",
    "lower=(mu1-mu2)+stats.t.ppf(alpha/2,df=(n1+n2-2))*np.sqrt(sp2*(1/n1+1/n2))\n",
    "upper=(mu1-mu2)+stats.t.ppf(1-alpha/2,df=(n1+n2-2))*np.sqrt(sp2*(1/n1+1/n2))\n",
    "\n",
    "lower,upper\n"
   ]
  },
  {
   "cell_type": "code",
   "execution_count": 10,
   "metadata": {},
   "outputs": [
    {
     "data": {
      "text/html": [
       "<div>\n",
       "<style scoped>\n",
       "    .dataframe tbody tr th:only-of-type {\n",
       "        vertical-align: middle;\n",
       "    }\n",
       "\n",
       "    .dataframe tbody tr th {\n",
       "        vertical-align: top;\n",
       "    }\n",
       "\n",
       "    .dataframe thead th {\n",
       "        text-align: right;\n",
       "    }\n",
       "</style>\n",
       "<table border=\"1\" class=\"dataframe\">\n",
       "  <thead>\n",
       "    <tr style=\"text-align: right;\">\n",
       "      <th></th>\n",
       "      <th>Ñ§Éú±àºÅ</th>\n",
       "      <th>ÊÔ¾íA</th>\n",
       "      <th>ÊÔ¾íB</th>\n",
       "    </tr>\n",
       "  </thead>\n",
       "  <tbody>\n",
       "    <tr>\n",
       "      <td>0</td>\n",
       "      <td>1.0</td>\n",
       "      <td>78.0</td>\n",
       "      <td>71.0</td>\n",
       "    </tr>\n",
       "    <tr>\n",
       "      <td>1</td>\n",
       "      <td>2.0</td>\n",
       "      <td>63.0</td>\n",
       "      <td>44.0</td>\n",
       "    </tr>\n",
       "    <tr>\n",
       "      <td>2</td>\n",
       "      <td>3.0</td>\n",
       "      <td>72.0</td>\n",
       "      <td>61.0</td>\n",
       "    </tr>\n",
       "    <tr>\n",
       "      <td>3</td>\n",
       "      <td>4.0</td>\n",
       "      <td>89.0</td>\n",
       "      <td>84.0</td>\n",
       "    </tr>\n",
       "    <tr>\n",
       "      <td>4</td>\n",
       "      <td>5.0</td>\n",
       "      <td>91.0</td>\n",
       "      <td>74.0</td>\n",
       "    </tr>\n",
       "  </tbody>\n",
       "</table>\n",
       "</div>"
      ],
      "text/plain": [
       "   Ñ§Éú±àºÅ  ÊÔ¾íA  ÊÔ¾íB\n",
       "0       1.0   78.0   71.0\n",
       "1       2.0   63.0   44.0\n",
       "2       3.0   72.0   61.0\n",
       "3       4.0   89.0   84.0\n",
       "4       5.0   91.0   74.0"
      ]
     },
     "execution_count": 10,
     "metadata": {},
     "output_type": "execute_result"
    }
   ],
   "source": [
    "# 配对样本估计\n",
    "data58=pd.read_spss(\n",
    "    'week5/data/5.8.sav'\n",
    ")\n",
    "data58.head()\n",
    "\n"
   ]
  },
  {
   "cell_type": "code",
   "execution_count": 11,
   "metadata": {},
   "outputs": [
    {
     "data": {
      "text/plain": [
       "(6.327308257173502, 15.672691742826498)"
      ]
     },
     "execution_count": 11,
     "metadata": {},
     "output_type": "execute_result"
    }
   ],
   "source": [
    "d1=data58.iloc[:,1].values\n",
    "d2=data58.iloc[:,2].values\n",
    "\n",
    "alpha=0.05\n",
    "\n",
    "d=d1-d2\n",
    "d_bar=np.sum(d)/len(data58)\n",
    "\n",
    "s_d=np.sqrt(np.sum((d-d_bar)**2)/(len(d)-1))\n",
    "lower=d_bar+stats.t.ppf(alpha/2,df=len(d)-1)*s_d/np.sqrt(len(d))\n",
    "upper=d_bar+stats.t.ppf(1-alpha/2,df=len(d)-1)*s_d/np.sqrt(len(d))\n",
    "lower,upper\n",
    "\n"
   ]
  },
  {
   "cell_type": "code",
   "execution_count": 12,
   "metadata": {},
   "outputs": [
    {
     "data": {
      "text/plain": [
       "(0.06637056086943266, 0.19362943913056735)"
      ]
     },
     "execution_count": 12,
     "metadata": {},
     "output_type": "execute_result"
    }
   ],
   "source": [
    "# 两总体比例之差\n",
    "p1=0.32\n",
    "n1=400\n",
    "\n",
    "p2=0.45\n",
    "n2=500\n",
    "\n",
    "alpha=0.05 # 95%置信水平\n",
    "\n",
    "lower=np.abs(p1-p2)+stats.norm.ppf(alpha/2)*np.sqrt(p1*(1-p1)/500+p2*(1-p2)/400)\n",
    "upper=np.abs(p1-p2)+stats.norm.ppf(1-alpha/2)*np.sqrt(p1*(1-p1)/500+p2*(1-p2)/400)\n",
    "\n",
    "lower,upper"
   ]
  },
  {
   "cell_type": "code",
   "execution_count": 13,
   "metadata": {},
   "outputs": [
    {
     "data": {
      "text/plain": [
       "(0.40919258202978326, 2.10718604350561)"
      ]
     },
     "execution_count": 13,
     "metadata": {},
     "output_type": "execute_result"
    }
   ],
   "source": [
    "# 两总体方差比\n",
    "\n",
    "n1=25\n",
    "x1_bar=520\n",
    "s1=260\n",
    "\n",
    "n2=25\n",
    "x2_bar=480\n",
    "s2=280\n",
    "\n",
    "alpha=0.05\n",
    "\n",
    "\n",
    "lower=(s1/s2)/stats.f.ppf(1-alpha/2,dfn=n1-1,dfd=n2-1)\n",
    "upper=(s1/s2)/stats.f.ppf(alpha/2,dfn=n1-1,dfd=n2-1)\n",
    "lower,upper\n"
   ]
  },
  {
   "cell_type": "markdown",
   "metadata": {},
   "source": [
    " # 样本量的确定"
   ]
  },
  {
   "cell_type": "code",
   "execution_count": 14,
   "metadata": {},
   "outputs": [
    {
     "data": {
      "text/plain": [
       "96.03647051735318"
      ]
     },
     "execution_count": 14,
     "metadata": {},
     "output_type": "execute_result"
    }
   ],
   "source": [
    "# 总体均值的样本量确定\n",
    "# 一个总体均值\n",
    "sigma=2000 \n",
    "error=400 # 误差\n",
    "alpha=0.05\n",
    "\n",
    "n=stats.norm.ppf(alpha/2)**2*2000**2/400**2 # 样本量的确定\n",
    "n # 97\n"
   ]
  },
  {
   "cell_type": "code",
   "execution_count": 15,
   "metadata": {},
   "outputs": [
    {
     "data": {
      "text/plain": [
       "32.26825409383067"
      ]
     },
     "execution_count": 15,
     "metadata": {},
     "output_type": "execute_result"
    }
   ],
   "source": [
    "# 两个总体均值\n",
    "\n",
    "# 方差\n",
    "var1=90 \n",
    "var2=120\n",
    "\n",
    "error=5\n",
    "alpha=0.05\n",
    "\n",
    "n=stats.norm.ppf(alpha/2)**2*(var1+var2)/error**2\n",
    "n # 33\n"
   ]
  },
  {
   "cell_type": "code",
   "execution_count": 16,
   "metadata": {},
   "outputs": [
    {
     "data": {
      "text/plain": [
       "138.29251754498853"
      ]
     },
     "execution_count": 16,
     "metadata": {},
     "output_type": "execute_result"
    }
   ],
   "source": [
    "# 总体比例的样本量确定\n",
    "# 一个总体比例\n",
    "p=0.9\n",
    "error=0.05\n",
    "alpha=0.05\n",
    "\n",
    "n=stats.norm.ppf(alpha/2)**2*p*(1-p)/error**2\n",
    "n\n"
   ]
  },
  {
   "cell_type": "code",
   "execution_count": 17,
   "metadata": {},
   "outputs": [
    {
     "data": {
      "text/plain": [
       "192.07294103470633"
      ]
     },
     "execution_count": 17,
     "metadata": {},
     "output_type": "execute_result"
    }
   ],
   "source": [
    "# 两个总体比例\n",
    "p=0.5\n",
    "error=0.1\n",
    "\n",
    "n=stats.norm.ppf(alpha/2)**2*(p*(1-p)+p*(1-p))/error**2\n",
    "n # n1=n2"
   ]
  }
 ],
 "metadata": {
  "file_extension": ".py",
  "kernelspec": {
   "display_name": "Python 3",
   "language": "python",
   "name": "python3"
  },
  "language_info": {
   "codemirror_mode": {
    "name": "ipython",
    "version": 3
   },
   "file_extension": ".py",
   "mimetype": "text/x-python",
   "name": "python",
   "nbconvert_exporter": "python",
   "pygments_lexer": "ipython3",
   "version": "3.7.3"
  },
  "mimetype": "text/x-python",
  "name": "python",
  "npconvert_exporter": "python",
  "pygments_lexer": "ipython3",
  "version": 3
 },
 "nbformat": 4,
 "nbformat_minor": 4
}
