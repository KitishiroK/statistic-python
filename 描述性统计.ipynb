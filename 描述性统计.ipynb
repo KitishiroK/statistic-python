{
 "cells": [
  {
   "cell_type": "code",
   "execution_count": 3,
   "metadata": {
    "ExecuteTime": {
     "end_time": "2019-11-10T13:52:06.428729Z",
     "start_time": "2019-11-10T13:52:05.227477Z"
    }
   },
   "outputs": [],
   "source": [
    "import numpy as np\n",
    "import pandas as pd"
   ]
  },
  {
   "cell_type": "code",
   "execution_count": 22,
   "metadata": {
    "ExecuteTime": {
     "end_time": "2019-11-10T13:55:25.069352Z",
     "start_time": "2019-11-10T13:55:25.060355Z"
    }
   },
   "outputs": [
    {
     "name": "stdout",
     "output_type": "stream",
     "text": [
      "[4 6 7 3 6 1 2 6 5 4]\n"
     ]
    },
    {
     "data": {
      "text/plain": [
       "0    6\n",
       "dtype: int32"
      ]
     },
     "execution_count": 22,
     "metadata": {},
     "output_type": "execute_result"
    }
   ],
   "source": [
    "data = np.random.randint(1,10,10)\n",
    "print(data)\n",
    "data = pd.Series(data)\n",
    "data.mode()"
   ]
  },
  {
   "cell_type": "code",
   "execution_count": 23,
   "metadata": {
    "ExecuteTime": {
     "end_time": "2019-11-10T13:57:17.799131Z",
     "start_time": "2019-11-10T13:57:17.793149Z"
    }
   },
   "outputs": [
    {
     "data": {
      "text/plain": [
       "4.5"
      ]
     },
     "execution_count": 23,
     "metadata": {},
     "output_type": "execute_result"
    }
   ],
   "source": [
    "data.median()"
   ]
  },
  {
   "cell_type": "code",
   "execution_count": 24,
   "metadata": {
    "ExecuteTime": {
     "end_time": "2019-11-10T13:59:00.094208Z",
     "start_time": "2019-11-10T13:59:00.086214Z"
    }
   },
   "outputs": [
    {
     "data": {
      "text/plain": [
       "3.25"
      ]
     },
     "execution_count": 24,
     "metadata": {},
     "output_type": "execute_result"
    }
   ],
   "source": [
    "data.quantile(q=0.25)"
   ]
  },
  {
   "cell_type": "code",
   "execution_count": 25,
   "metadata": {
    "ExecuteTime": {
     "end_time": "2019-11-10T14:00:44.253376Z",
     "start_time": "2019-11-10T14:00:44.245380Z"
    }
   },
   "outputs": [
    {
     "name": "stdout",
     "output_type": "stream",
     "text": [
      "中位数： 4.5\n",
      "四分位数： 3.25\n"
     ]
    }
   ],
   "source": [
    "m_0 = data.median()\n",
    "m_1 = data.quantile(q=0.25)    #四分位数\n",
    "print('中位数：',m_0)\n",
    "print('四分位数：',m_1)"
   ]
  },
  {
   "cell_type": "code",
   "execution_count": 27,
   "metadata": {
    "ExecuteTime": {
     "end_time": "2019-11-10T14:02:37.445488Z",
     "start_time": "2019-11-10T14:02:37.439493Z"
    }
   },
   "outputs": [
    {
     "name": "stdout",
     "output_type": "stream",
     "text": [
      "平均数： 4.4\n"
     ]
    }
   ],
   "source": [
    "mean = data.mean()\n",
    "print('平均数：',mean)"
   ]
  },
  {
   "cell_type": "code",
   "execution_count": 29,
   "metadata": {
    "ExecuteTime": {
     "end_time": "2019-11-10T14:10:46.923573Z",
     "start_time": "2019-11-10T14:10:46.915578Z"
    }
   },
   "outputs": [
    {
     "name": "stdout",
     "output_type": "stream",
     "text": [
      "四分位差： 2.75\n"
     ]
    }
   ],
   "source": [
    "qd = data.quantile(q=0.75) - data.quantile(q=0.25)\n",
    "print('四分位差：',qd)"
   ]
  },
  {
   "cell_type": "code",
   "execution_count": 34,
   "metadata": {
    "ExecuteTime": {
     "end_time": "2019-11-10T14:13:39.038392Z",
     "start_time": "2019-11-10T14:13:39.032399Z"
    }
   },
   "outputs": [
    {
     "name": "stdout",
     "output_type": "stream",
     "text": [
      "极差： 6\n"
     ]
    }
   ],
   "source": [
    "R = data.max() - data.min()\n",
    "print('极差：',R)"
   ]
  },
  {
   "cell_type": "code",
   "execution_count": 32,
   "metadata": {
    "ExecuteTime": {
     "end_time": "2019-11-10T14:13:10.181041Z",
     "start_time": "2019-11-10T14:13:10.174046Z"
    }
   },
   "outputs": [
    {
     "data": {
      "text/plain": [
       "7"
      ]
     },
     "execution_count": 32,
     "metadata": {},
     "output_type": "execute_result"
    }
   ],
   "source": [
    "data.max()"
   ]
  },
  {
   "cell_type": "code",
   "execution_count": 43,
   "metadata": {
    "ExecuteTime": {
     "end_time": "2019-11-10T14:18:27.740923Z",
     "start_time": "2019-11-10T14:18:27.732924Z"
    }
   },
   "outputs": [
    {
     "name": "stdout",
     "output_type": "stream",
     "text": [
      "平均差： 16.0\n"
     ]
    }
   ],
   "source": [
    "m_d = (data - data.mean()).apply(lambda x: x if x >0 else -x).sum()\n",
    "print('平均差：',m_d)"
   ]
  },
  {
   "cell_type": "code",
   "execution_count": 48,
   "metadata": {
    "ExecuteTime": {
     "end_time": "2019-11-10T14:22:21.005756Z",
     "start_time": "2019-11-10T14:22:20.992761Z"
    }
   },
   "outputs": [
    {
     "name": "stdout",
     "output_type": "stream",
     "text": [
      "方差： 3.822222222222222\n",
      "标准差： 1.9550504398153572\n"
     ]
    }
   ],
   "source": [
    "var = data.var()\n",
    "std = data.std()\n",
    "print('方差：',var)\n",
    "print('标准差：',std)"
   ]
  },
  {
   "cell_type": "code",
   "execution_count": 52,
   "metadata": {
    "ExecuteTime": {
     "end_time": "2019-11-10T14:25:30.543758Z",
     "start_time": "2019-11-10T14:25:30.537761Z"
    }
   },
   "outputs": [
    {
     "name": "stdout",
     "output_type": "stream",
     "text": [
      "离散系数： 0.8686868686868685\n"
     ]
    }
   ],
   "source": [
    "v_s = data.var() / data.mean()\n",
    "print('离散系数：',v_s)"
   ]
  },
  {
   "cell_type": "code",
   "execution_count": 53,
   "metadata": {
    "ExecuteTime": {
     "end_time": "2019-11-10T14:28:22.456065Z",
     "start_time": "2019-11-10T14:28:22.448068Z"
    }
   },
   "outputs": [
    {
     "data": {
      "text/plain": [
       "0   -0.204598\n",
       "1    0.818393\n",
       "2    1.329889\n",
       "3   -0.716094\n",
       "4    0.818393\n",
       "5   -1.739086\n",
       "6   -1.227590\n",
       "7    0.818393\n",
       "8    0.306897\n",
       "9   -0.204598\n",
       "dtype: float64"
      ]
     },
     "execution_count": 53,
     "metadata": {},
     "output_type": "execute_result"
    }
   ],
   "source": [
    "(data - data.mean()) / data.std()"
   ]
  },
  {
   "cell_type": "code",
   "execution_count": 55,
   "metadata": {
    "ExecuteTime": {
     "end_time": "2019-11-10T14:30:44.853601Z",
     "start_time": "2019-11-10T14:30:44.848604Z"
    }
   },
   "outputs": [
    {
     "name": "stdout",
     "output_type": "stream",
     "text": [
      "偏度系数： -0.48175762933524785\n"
     ]
    }
   ],
   "source": [
    "skew = data.skew()\n",
    "print('偏度系数：',skew)"
   ]
  },
  {
   "cell_type": "code",
   "execution_count": 56,
   "metadata": {
    "ExecuteTime": {
     "end_time": "2019-11-10T14:32:48.817762Z",
     "start_time": "2019-11-10T14:32:48.811764Z"
    }
   },
   "outputs": [
    {
     "name": "stdout",
     "output_type": "stream",
     "text": [
      "峰度系数： -0.8107422931314208\n"
     ]
    }
   ],
   "source": [
    "kurt = data.kurt()\n",
    "print('峰度系数：',kurt)"
   ]
  },
  {
   "cell_type": "code",
   "execution_count": null,
   "metadata": {},
   "outputs": [],
   "source": []
  }
 ],
 "metadata": {
  "kernelspec": {
   "display_name": "Python 3",
   "language": "python",
   "name": "python3"
  },
  "language_info": {
   "codemirror_mode": {
    "name": "ipython",
    "version": 3
   },
   "file_extension": ".py",
   "mimetype": "text/x-python",
   "name": "python",
   "nbconvert_exporter": "python",
   "pygments_lexer": "ipython3",
   "version": "3.7.4"
  },
  "nbTranslate": {
   "displayLangs": [
    "*"
   ],
   "hotkey": "alt-t",
   "langInMainMenu": true,
   "sourceLang": "en",
   "targetLang": "fr",
   "useGoogleTranslate": true
  },
  "toc": {
   "base_numbering": 1,
   "nav_menu": {},
   "number_sections": true,
   "sideBar": true,
   "skip_h1_title": false,
   "title_cell": "Table of Contents",
   "title_sidebar": "Contents",
   "toc_cell": false,
   "toc_position": {},
   "toc_section_display": true,
   "toc_window_display": false
  },
  "varInspector": {
   "cols": {
    "lenName": 16,
    "lenType": 16,
    "lenVar": 40
   },
   "kernels_config": {
    "python": {
     "delete_cmd_postfix": "",
     "delete_cmd_prefix": "del ",
     "library": "var_list.py",
     "varRefreshCmd": "print(var_dic_list())"
    },
    "r": {
     "delete_cmd_postfix": ") ",
     "delete_cmd_prefix": "rm(",
     "library": "var_list.r",
     "varRefreshCmd": "cat(var_dic_list()) "
    }
   },
   "types_to_exclude": [
    "module",
    "function",
    "builtin_function_or_method",
    "instance",
    "_Feature"
   ],
   "window_display": false
  }
 },
 "nbformat": 4,
 "nbformat_minor": 2
}
